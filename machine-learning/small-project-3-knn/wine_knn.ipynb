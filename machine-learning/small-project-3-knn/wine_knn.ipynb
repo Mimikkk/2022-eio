{
 "cells": [
  {
   "cell_type": "markdown",
   "source": [
    "# Homework\n",
    "You are given a dataset containing information about 1600 red wines (winequality.csv) containing 11 attributes and assignment to one of the three wine quality classess: \"poor\", \"medium\" and \"good\".\n",
    "- Perform a preprocessing of this dataset (normalization, standardization).\n",
    "- Divide this set into the train and test sets.\n",
    "- Choose experimentally the best value of k (using cross-validation).\n",
    "- Perform classification using the k-nn algoritm with the chosen k value.\n",
    "\n",
    "Write a report containing information about the used preprocessing methods,\n",
    "- chosen train/test split method (percentage of examples in train/test sets, if shuffling or stratification used), plot of the accuracy depending of k parameter, finally chosen k and obtained classification accuracy on a test set.\n",
    "\n",
    "**Deadline +2 weeks**\n",
    "\n"
   ],
   "metadata": {
    "collapsed": false
   }
  },
  {
   "cell_type": "code",
   "execution_count": 108,
   "metadata": {},
   "outputs": [],
   "source": [
    "import numpy as np\n",
    "import sklearn.model_selection as skm\n",
    "import sklearn.preprocessing as skp\n",
    "import sklearn.neighbors as skn\n",
    "import pandas as pd\n",
    "\n",
    "def read_data(path: str) -> pd.DataFrame:\n",
    "  return pd.read_csv(path)\n",
    "\n",
    "def preprocess_df(df: pd.DataFrame) -> pd.DataFrame:\n",
    "  df = df.sample(frac=1).reset_index(drop=True)\n",
    "  classes = df['quality']\n",
    "  df = df.drop('quality', axis=1)\n",
    "\n",
    "  normalized_df = skp.MinMaxScaler().fit_transform(df)\n",
    "  return normalized_df, classes.values\n",
    "\n",
    "def split_df(data_X, data_Y, test_percent=0.2, random_state=5) -> (\n",
    "    (pd.DataFrame, list[str]), (pd.DataFrame, list[str])):\n",
    "  (X_train, X_test, Y_train, Y_test) = skm.train_test_split(\n",
    "    data_X, data_Y, test_size=test_percent, random_state=random_state\n",
    "  )\n",
    "  return ((X_train, Y_train), (X_test, Y_test))\n",
    "\n",
    "wine_df = read_data(\"resources/winequality-red.csv\")"
   ]
  },
  {
   "cell_type": "code",
   "execution_count": 109,
   "outputs": [],
   "source": [
    "def calculate_cross_acc(k: int):\n",
    "  classifier = skn.KNeighborsClassifier(n_neighbors=k)\n",
    "  classifier.fit(*train_split)\n",
    "\n",
    "  return np.mean(skm.cross_val_score(classifier, *test_split))\n",
    "\n",
    "\n",
    "items = []\n",
    "for _ in range(100):\n",
    "  (train_split, test_split) = split_df(*preprocess_df(wine_df))\n",
    "\n",
    "  accuracies_pairs = tuple(\n",
    "    enumerate(map(calculate_cross_acc, range(1, 100 + 1)), start=1)\n",
    "  )\n",
    "  items.append(accuracies_pairs)\n",
    "averages = tuple(map(lambda x: np.average(x, axis=0), zip(*items)))\n"
   ],
   "metadata": {
    "collapsed": false
   }
  },
  {
   "cell_type": "code",
   "execution_count": 110,
   "outputs": [
    {
     "name": "stdout",
     "output_type": "stream",
     "text": [
      "Best score for k=31 with 59.69% accuracy\n"
     ]
    },
    {
     "data": {
      "text/plain": "<Figure size 640x480 with 1 Axes>",
      "image/png": "[encoded data removed]"
     },
     "metadata": {},
     "output_type": "display_data"
    }
   ],
   "source": [
    "import matplotlib.pyplot as plt\n",
    "\n",
    "plt.plot(*zip(*averages), 'bo', markersize=3)\n",
    "\n",
    "(best_k, score) = max(averages, key=lambda x: x[1])\n",
    "print(f\"Best score for k={int(best_k)} with {score * 100:.2f}% accuracy\")\n"
   ],
   "metadata": {
    "collapsed": false
   }
  }
 ],
 "metadata": {
  "kernelspec": {
   "display_name": "Python 3.10.6 64-bit",
   "language": "python",
   "name": "python3"
  },
  "language_info": {
   "codemirror_mode": {
    "name": "ipython",
    "version": 3
   },
   "file_extension": ".py",
   "mimetype": "text/x-python",
   "name": "python",
   "nbconvert_exporter": "python",
   "pygments_lexer": "ipython3",
   "version": "3.10.6"
  },
  "vscode": {
   "interpreter": {
    "hash": "916dbcbb3f70747c44a77c7bcd40155683ae19c65e1c03b4aa3499c5328201f1"
   }
  }
 },
 "nbformat": 4,
 "nbformat_minor": 4
}
