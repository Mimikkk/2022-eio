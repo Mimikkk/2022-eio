{
 "nbformat": 4,
 "nbformat_minor": 0,
 "metadata": {
  "colab": {
   "provenance": [],
   "toc_visible": true
  },
  "kernelspec": {
   "name": "python3",
   "language": "python",
   "display_name": "Python 3 (ipykernel)"
  }
 },
 "cells": [
  {
   "cell_type": "markdown",
   "metadata": {
    "id": "ebvqJaNU9bkH"
   },
   "source": [
    "# Elementy Inteligencji Obliczeniowej - Sieci Neuronowe\n",
    "\n",
    "\n",
    "---\n",
    "\n",
    "**Prowadzący:** Jakub Bednarek<br>\n",
    "**Kontakt:** jakub.bednarek@put.poznan.pl<br>\n",
    "**Materiały:** [Strona WWW](http://jakub.bednarek.pracownik.put.poznan.pl)\n",
    "\n",
    "---"
   ]
  },
  {
   "cell_type": "markdown",
   "metadata": {
    "id": "i0tVMrm99g5w"
   },
   "source": [
    "## Uwaga\n",
    "\n",
    "* **Aby wykonać polecenia należy najpierw przejść do trybu 'playground'. File -> Open in Playground Mode**\n",
    "* Nowe funkcje Colab pozwalają na autouzupełnianie oraz czytanie dokumentacji"
   ]
  },
  {
   "cell_type": "markdown",
   "metadata": {
    "id": "Wlq47LA0BuBB"
   },
   "source": [
    "## Cel ćwiczeń:\n",
    "- zapoznanie się z rekurencyjnymi sieciami neuronowymi,\n",
    "- stworzenie modelu sieci z warstwami rekurencyjnymi dla zbioru danych MNIST,\n",
    "- stworzenie własnych implementacji warstwami neuronowych"
   ]
  },
  {
   "cell_type": "code",
   "metadata": {
    "id": "SxLU8paIDmUe",
    "outputId": "973390c4-5aee-4456-e4d9-f4c162717038",
    "colab": {
     "base_uri": "https://localhost:8080/",
     "height": 36
    }
   },
   "source": [
    "import tensorflow as tf\n",
    "import numpy as np"
   ],
   "execution_count": 1,
   "outputs": []
  },
  {
   "cell_type": "code",
   "metadata": {
    "id": "scL5_bHTD-M7"
   },
   "source": [
    "from tensorflow.keras.datasets import mnist\n",
    "from tensorflow.keras.models import Sequential, Model\n",
    "from tensorflow.keras.layers import Dense, Dropout, Flatten, BatchNormalization, Conv2D, MaxPooling2D, LSTM, LSTMCell, \\\n",
    "  SimpleRNNCell\n",
    "from tensorflow.keras.utils import to_categorical\n",
    "from tensorflow.keras.losses import categorical_crossentropy\n",
    "from tensorflow.keras.optimizers import Adadelta, RMSprop\n",
    "from tensorflow.python.keras import backend as K\n",
    "import functools\n",
    "def pipe(*fns):\n",
    "  return functools.reduce(lambda f, g: lambda x: f(g(x)), reversed(fns))\n"
   ],
   "execution_count": 2,
   "outputs": []
  },
  {
   "cell_type": "code",
   "metadata": {
    "id": "wV_u-YBWEJ8X",
    "outputId": "1125ba20-3008-4697-fe68-906e775b7359",
    "colab": {
     "base_uri": "https://localhost:8080/",
     "height": 74
    }
   },
   "source": [
    "(x_train, y_train), (x_test, y_test) = mnist.load_data()\n",
    "\n",
    "x_train = x_train.astype('float32')  # shape: 60000, 28, 28\n",
    "x_test = x_test.astype('float32')  # shape: 10000, 28, 28\n",
    "x_train /= 255  # normalizacja wartości do przedziału [0, 1]\n",
    "x_test /= 255\n",
    "\n",
    "y_train = to_categorical(y_train, 10)  # zamiana etykiety na one-hot encoding; np. 2 -> [0, 0, 1, 0, 0, 0, 0, 0, 0, 0]\n",
    "y_test = to_categorical(y_test, 10)"
   ],
   "execution_count": 3,
   "outputs": []
  },
  {
   "cell_type": "markdown",
   "metadata": {
    "id": "ppmDSGoyFuJ9"
   },
   "source": [
    "## Sieci rekurencyjne\n",
    "http://colah.github.io/posts/2015-08-Understanding-LSTMs/\n",
    "\n",
    "https://www.tensorflow.org/guide/keras/rnn\n",
    "\n",
    "https://www.tensorflow.org/guide/function\n",
    "\n",
    "http://karpathy.github.io/2015/05/21/rnn-effectiveness/\n",
    "\n",
    "http://www.wildml.com/2015/09/recurrent-neural-networks-tutorial-part-1-introduction-to-rnns/\n",
    "\n",
    "Przykładowy model z warstwą rekurencyjną dla danych MNIST:"
   ]
  },
  {
   "cell_type": "code",
   "metadata": {
    "id": "ViqotGlHGy9t"
   },
   "source": [
    "class RecurrentModel(Model):\n",
    "\n",
    "  def __init__(self, num_classes=10):\n",
    "    super(RecurrentModel, self).__init__(name='my_model')\n",
    "    self.num_classes = num_classes\n",
    "    # Define your layers here.\n",
    "    self.lstm_1 = LSTM(128, activation='relu')\n",
    "    self.dense_1 = Dense(num_classes, activation='softmax')\n",
    "\n",
    "  def call(self, inputs):\n",
    "    return pipe(\n",
    "      self.lstm_1,\n",
    "      self.dense_1,\n",
    "    )(inputs)\n",
    "\n",
    "model = RecurrentModel(num_classes=10)"
   ],
   "execution_count": 4,
   "outputs": []
  },
  {
   "cell_type": "code",
   "metadata": {
    "id": "jFs-QBFtEp0s",
    "outputId": "085c2e9a-e4ba-4de7-e818-18c3e02526e4",
    "colab": {
     "base_uri": "https://localhost:8080/",
     "height": 121
    },
    "pycharm": {
     "is_executing": true
    }
   },
   "source": [
    "model.compile(optimizer=RMSprop(),\n",
    "              loss='categorical_crossentropy',\n",
    "              metrics=['accuracy'])\n",
    "\n",
    "model.fit(x_train, y_train, batch_size=32, epochs=4)"
   ],
   "execution_count": null,
   "outputs": [
    {
     "name": "stdout",
     "output_type": "stream",
     "text": [
      "Epoch 1/4\n",
      "WARNING:tensorflow:From C:\\Users\\HououinKyouma\\PycharmProjects\\eio-2022\\venv\\lib\\site-packages\\tensorflow\\python\\autograph\\pyct\\static_analysis\\liveness.py:83: Analyzer.lamba_check (from tensorflow.python.autograph.pyct.static_analysis.liveness) is deprecated and will be removed after 2023-09-23.\n",
      "Instructions for updating:\n",
      "Lambda fuctions will be no more assumed to be used in the statement where they are used, or at least in the same block. https://github.com/tensorflow/tensorflow/issues/56089\n",
      "1875/1875 [==============================] - 20s 10ms/step - loss: 0.5387 - accuracy: 0.8305\n",
      "Epoch 2/4\n",
      " 889/1875 [=============>................] - ETA: 9s - loss: 0.1542 - accuracy: 0.9548"
     ]
    }
   ]
  },
  {
   "cell_type": "markdown",
   "metadata": {
    "id": "ZgtZzVYg1361"
   },
   "source": [
    "### Zadanie 1\n",
    "Rozszerz model z powyższego przykładu o kolejną warstwę rekurencyjną przed gęstą warstwą wyjściową.\n",
    "\n",
    "Standardowe sieci neuronowe generują jeden wynik na podstawie jednego inputu, natomiast sieci rekurencyjne przetwarzają dane sekwencyjnie, w każdym kroku łącząc wynik poprzedniego przetwarzania i aktualnego wejścia. Dlatego domyślnym wejściem sieci neuronowej jest tensor 3-wymiarowy ([batch_size,sequence_size,sample_size]).\n",
    "Domyślnie warstwy rekurencyjne w Kerasie zwracają tylko wyniki przetwarzania ostatniego\n",
    "kroku (otrzymują tensor 3-wymiarowy, zwracają tensor 2-wymiarowy). Jeśli chcesz zwrócić sekwencje wyników wszystkich kroków przetwarzania dla warstwy rekurencyjnej, musisz ustawić parametr return_sequences=True.\n"
   ]
  },
  {
   "cell_type": "code",
   "metadata": {
    "id": "MSJUzxAc15uZ",
    "pycharm": {
     "is_executing": true
    }
   },
   "source": [
    "class RecurrentBeans(Model):\n",
    "  def __init__(self, num_classes=10):\n",
    "    super(RecurrentBeans, self).__init__(name='RecurrentBeans')\n",
    "    self.num_classes = num_classes\n",
    "    # Define your layers here.\n",
    "    self.lstm_1 = LSTM(128, activation='relu', return_sequences=True)\n",
    "    self.lstm_2 = LSTM(128, activation='relu')\n",
    "    self.dense_1 = Dense(num_classes, activation='softmax')\n",
    "\n",
    "  def call(self, inputs):\n",
    "    return pipe(\n",
    "      self.lstm_1,\n",
    "      self.lstm_2,\n",
    "      self.dense_1,\n",
    "    )(inputs)\n",
    "\n",
    "model = RecurrentBeans(num_classes=10)\n",
    "model.compile(optimizer=RMSprop(), loss='categorical_crossentropy', metrics=['accuracy'])\n",
    "model.fit(x_train, y_train, batch_size=32, epochs=4)"
   ],
   "execution_count": null,
   "outputs": []
  },
  {
   "cell_type": "markdown",
   "metadata": {
    "id": "fYDLWjdseB4H"
   },
   "source": [
    "### Zadanie 2 \n",
    "Wykorzystując model z przykładu, napisz sieć rekurencyjną przy użyciu SimpleRNNCell.\n",
    "\n",
    "Cell implementuje tylko operacje wykonywane przez warstwę\n",
    "rekurencyjną dla jednego kroku. Warstwy rekurencyjne w każdym kroku\n",
    "łączą wynik operacji poprzedniego kroku i aktualny input.\n",
    "Wykorzystaj pętle for do wielokrotnego wywołania komórki SimpleRNNCell (liczba kroków to liczba elementów w sekwencji). Aby wywołać SimpleRNNCell dla pojedynczego wejścia i stanu należy użyć jej metody ```call``` analogicznie jak w przypadku własnych modeli (tzn. ```my_model(input)```). \n",
    "\n",
    "\n",
    "\n",
    "Wywołanie zainicjalizowanej komórki rekurencyjnej wymaga podania aktualnego inputu i **listy macierzy** (w dokumentacji jest błąd, że ma to być macierz) stanów ukrytych poprzedniego kroku (SimpleRNNCell ma jeden stan, LSTMCell w następnym zadaniu ma dwa stany).\n",
    "\n",
    "Trzeba zainicjalizować ukryty stan warstwy wartościami początkowymi (można wykorzystać rozkład normalny - tf.random.normal)."
   ]
  },
  {
   "cell_type": "code",
   "metadata": {
    "id": "6yZ8yKmbee44",
    "pycharm": {
     "is_executing": true
    }
   },
   "source": [
    "class RNNRecurrentBeans(Model):\n",
    "  def __init__(self, num_classes):\n",
    "    super().__init__(name='RNNRecurrentBeans')\n",
    "    self.num_classes = num_classes\n",
    "    self.cell = SimpleRNNCell(128, activation='relu')\n",
    "    self.dense_1 = Dense(num_classes, activation='softmax')\n",
    "\n",
    "  def call(self, inputs):\n",
    "    h = tf.random.normal([inputs.shape[0], self.cell.units])\n",
    "\n",
    "    for n in range(inputs.shape[1]):\n",
    "      x, h = self.cell(inputs[:, n, :], h)\n",
    "\n",
    "    return self.dense_1(x)\n",
    "\n",
    "model = RNNRecurrentBeans(num_classes=10)\n",
    "model.compile(optimizer=RMSprop(), loss='categorical_crossentropy', metrics=['accuracy'])\n",
    "model.fit(x_train, y_train, batch_size=32, epochs=4)"
   ],
   "execution_count": null,
   "outputs": []
  },
  {
   "cell_type": "markdown",
   "metadata": {
    "id": "eyPGkC6oiEd5"
   },
   "source": [
    "### Zadanie 3\n",
    "Zamień komórkę rekurencyjną z poprzedniego zadania na LSTMCell (LSTMCell ma dwa stany ukryte)."
   ]
  },
  {
   "cell_type": "code",
   "metadata": {
    "id": "C5MPQ1UcigN5",
    "pycharm": {
     "is_executing": true
    }
   },
   "source": [
    "class LSTMRecurrentBeans(Model):\n",
    "  def __init__(self, num_classes):\n",
    "    super().__init__(name='LSTMRecurrentBeans')\n",
    "    self.num_classes = num_classes\n",
    "    self.cell = LSTMCell(128, activation='relu')\n",
    "    self.dense_1 = Dense(num_classes, activation='softmax')\n",
    "\n",
    "  def call(self, inputs):\n",
    "    shape = (inputs.shape[0], self.cell.units)\n",
    "    h = [tf.random.normal(shape), tf.random.normal(shape)]\n",
    "\n",
    "    for n in range(inputs.shape[1]):\n",
    "      x, h = self.cell(inputs[:, n, :], h)\n",
    "\n",
    "    return self.dense_1(x)\n",
    "\n",
    "model = LSTMRecurrentBeans(num_classes=10)\n",
    "model.compile(optimizer=RMSprop(), loss='categorical_crossentropy', metrics=['accuracy'])\n",
    "model.fit(x_train, y_train, batch_size=32, epochs=4)"
   ],
   "execution_count": null,
   "outputs": []
  },
  {
   "cell_type": "markdown",
   "metadata": {
    "id": "prwjaEv2efs3"
   },
   "source": [
    "### Zadanie 4\n",
    "Wykorzystując model z poprzedniego zadania, stwórz model sieci\n",
    "neuronowej z własną implementacją prostej warstwy rekurencyjnej.\n",
    "- w call zamień self.lstm_cell_layer(x) na wywołanie własnej metody np. self.cell(x)\n",
    "- w konstruktorze modelu usuń inicjalizację komórki LSTM i zastąp ją inicjalizacją warstw potrzebnych do stworzenia własnej komórki rekurencyjnej,\n",
    "- stwórz metodę cell() wykonującą operacje warstwy rekurencyjnej,\n",
    "- prosta warstwa rekurencyjna konkatenuje poprzedni wyniki i aktualny input, a następnie przepuszcza ten połączony tensor przez warstwę gęstą (Dense)."
   ]
  },
  {
   "cell_type": "code",
   "metadata": {
    "id": "BGQr50EafxSH",
    "pycharm": {
     "is_executing": true
    }
   },
   "source": [
    "class CoolRecurrentBeans(Model):\n",
    "  def __init__(self, num_classes):\n",
    "    super().__init__(name='CoolRecurrentBeans')\n",
    "    self.num_classes = num_classes\n",
    "    self._cell = Dense(128, activation='relu')\n",
    "    self.dense_1 = Dense(num_classes, activation='softmax')\n",
    "\n",
    "  def cell(self, x, h):\n",
    "    return self._cell(K.concatenate([x, h]))\n",
    "\n",
    "  def call(self, inputs):\n",
    "    h = tf.random.normal((inputs.shape[0], self._cell.units))\n",
    "\n",
    "    for n in range(inputs.shape[1]):\n",
    "      h = self.cell(inputs[:, n, :], h)\n",
    "\n",
    "    return self.dense_1(h)\n",
    "\n",
    "model = CoolRecurrentBeans(num_classes=10)\n",
    "model.compile(optimizer=RMSprop(), loss='categorical_crossentropy', metrics=['accuracy'])\n",
    "model.fit(x_train, y_train, batch_size=32, epochs=4)"
   ],
   "execution_count": null,
   "outputs": []
  },
  {
   "cell_type": "markdown",
   "metadata": {
    "id": "_3sOaUu3b77l"
   },
   "source": [
    "### Zadanie 5\n",
    "\n",
    "Na podstawie modelu z poprzedniego zadania stwórz model z własną implementacją warstwy LSTM. Dokładny i zrozumiały opis działania warstwy LSTM znajduje się na [stronie](http://colah.github.io/posts/2015-08-Understanding-LSTMs/)."
   ]
  },
  {
   "cell_type": "code",
   "metadata": {
    "id": "Kyu4YijDcA13",
    "pycharm": {
     "is_executing": true
    }
   },
   "source": [
    "class LSTMCoolRecurrentBeans(Model):\n",
    "  def __init__(self, num_classes):\n",
    "    super().__init__(name='Model5')\n",
    "    self.num_classes = num_classes\n",
    "    self.units = 128\n",
    "    self.dense_i = Dense(self.units, activation='sigmoid')\n",
    "    self.dense_f = Dense(self.units, activation='sigmoid')\n",
    "    self.dense_o = Dense(self.units, activation='sigmoid')\n",
    "    self.dense_c = Dense(self.units, activation='tanh')\n",
    "    self.dense_1 = Dense(num_classes, activation='softmax')\n",
    "\n",
    "  def cell(self, x, h):\n",
    "    c_last, h_last = h\n",
    "    hx = K.concatenate([h_last, x])\n",
    "    c_next = self.dense_f(hx) * c_last + self.dense_i(hx) * self.dense_c(hx)\n",
    "    h_next = self.dense_o(hx) * K.tanh(c_next)\n",
    "    return h_next, (c_next, h_next)\n",
    "\n",
    "  def call(self, inputs):\n",
    "    shape = (inputs.shape[0], self.units)\n",
    "    h = [tf.random.normal(shape), tf.random.normal(shape)]\n",
    "\n",
    "    for n in range(inputs.shape[1]):\n",
    "      x, h = self.cell(inputs[:, n, :], h)\n",
    "\n",
    "    return self.dense_1(x)\n",
    "\n",
    "model = LSTMCoolRecurrentBeans(num_classes=10)\n",
    "model.compile(optimizer=RMSprop(), loss='categorical_crossentropy', metrics=['accuracy'])\n",
    "model.fit(x_train, y_train, batch_size=32, epochs=2)"
   ],
   "execution_count": null,
   "outputs": []
  }
 ]
}
