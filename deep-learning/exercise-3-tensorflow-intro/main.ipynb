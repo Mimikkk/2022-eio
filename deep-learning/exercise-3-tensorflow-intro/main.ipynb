{
 "nbformat": 4,
 "nbformat_minor": 0,
 "metadata": {
  "colab": {
   "provenance": []
  },
  "kernelspec": {
   "name": "python3",
   "display_name": "Python 3"
  },
  "accelerator": "GPU"
 },
 "cells": [
  {
   "cell_type": "markdown",
   "metadata": {
    "id": "ebvqJaNU9bkH"
   },
   "source": [
    "# Elementy Inteligencji Obliczeniowej - Sieci Neuronowe\n",
    "\n",
    "\n",
    "---\n",
    "\n",
    "**Prowadzący:** Jakub Bednarek<br>\n",
    "**Kontakt:** jakub.bednarek@put.poznan.pl<br>\n",
    "**Materiały:** [Strona WWW](http://jakub.bednarek.pracownik.put.poznan.pl)\n",
    "\n",
    "---"
   ]
  },
  {
   "cell_type": "markdown",
   "metadata": {
    "id": "i0tVMrm99g5w"
   },
   "source": [
    "## Uwaga\n",
    "\n",
    "* **Aby wykonać polecenia należy najpierw przejść do trybu 'playground'. File -> Open in Playground Mode**\n",
    "* Nowe funkcje Colab pozwalają na autouzupełnianie oraz czytanie dokumentacji"
   ]
  },
  {
   "cell_type": "markdown",
   "metadata": {
    "id": "Wlq47LA0BuBB"
   },
   "source": [
    "## Cel ćwiczeń: \n",
    "\n",
    "* wprowadzenie biblioteki TensorFlow,\n",
    "* prezentacja podejścia Eager oraz Graph Execution,\n",
    "* ukazanie różnic i podobieństw pomiędzy NumPy a TensorFlow,\n",
    "* algorytm wstecznej propagacji błędu w TensorFlow"
   ]
  },
  {
   "cell_type": "markdown",
   "metadata": {
    "id": "C0AoiF16OTow"
   },
   "source": [
    "## Tensorflow\n",
    "\n",
    "Tensorflow to biblioteka przeznaczona do uczenia maszynowego oraz przetwarzania Big Data. Jej podstawy zostały zbudowane na wzór NumPy, którego poszczególne elementy zostały zaprezentowane na poprzednich zajęciach.\n",
    "Co wyróżnia Tensorflow to możliwość korzystania zarówno z CPU, GPU jak i łączenia jednostek obliczeniowych w klastry.\n",
    "\n",
    "Korzystając z Colab nie potrzebujesz wykonywać żadnych dodatkowych kroków w celu konfiguracji.\n",
    "\n",
    "Najnowszą wersją biblioteki jest TensorFlow 2.x. Aby ją aktywować wywołaj poniższe polecenie.\n"
   ]
  },
  {
   "cell_type": "code",
   "metadata": {
    "id": "2ovUb2T9CbQv",
    "colab": {
     "base_uri": "https://localhost:8080/",
     "height": 35
    },
    "outputId": "202e5a14-fc20-4caf-e673-39819cbff9db"
   },
   "source": [
    "% tensorflow_version 2.x"
   ],
   "execution_count": 115,
   "outputs": [
    {
     "name": "stderr",
     "output_type": "stream",
     "text": [
      "UsageError: Line magic function `%` not found.\n"
     ]
    }
   ]
  },
  {
   "cell_type": "markdown",
   "metadata": {
    "id": "kyOQAsNXECp0"
   },
   "source": [
    "## Model działania biblioteki Tensorflow."
   ]
  },
  {
   "cell_type": "markdown",
   "metadata": {
    "id": "uUuN3WIZEFaT"
   },
   "source": [
    "### Eager Execution"
   ]
  },
  {
   "cell_type": "markdown",
   "metadata": {
    "id": "QBy3wd9GSXa0"
   },
   "source": [
    "Tensorflow w wersji 2.x pozwala na prawie identyczne wykonanie operacji jak w przypadku biblioteki NumPy, poznanej na poprzednich zajęciach. Operacje wykonywane są w momencie ich wywołania. Podejście takie nazywa się **Eager Execution**.\n",
    "\n",
    "Poniżej przedstawione zostało porównanie wykonania tego samego zadania w NumPy oraz w Tensorflow:"
   ]
  },
  {
   "cell_type": "code",
   "execution_count": 152,
   "outputs": [],
   "source": [
    "# import bibliotek\n",
    "import tensorflow as tf\n",
    "import numpy as np\n",
    "\n",
    "import functools\n",
    "def pipe(*fns):\n",
    "  return functools.reduce(lambda f, g: lambda x: f(g(x)), reversed(fns))\n"
   ],
   "metadata": {
    "collapsed": false
   }
  },
  {
   "cell_type": "code",
   "execution_count": null,
   "outputs": [],
   "source": [
    "# przykładowa alokacja danych:\n",
    "np_arr = np.zeros([5, 5])\n",
    "tf_arr = tf.zeros([5, 5])\n",
    "\n",
    "np_arr = np.ones([5, 5])\n",
    "tf_arr = tf.ones([5, 5])\n",
    "\n",
    "np_arr = np.array([1, 2, 3, 4, 5])\n",
    "tf_arr = tf.constant([1, 2, 3, 4, 5])\n",
    "\n",
    "np_arr = np.random.normal(0, 1, [5, 5])\n",
    "tf_arr = tf.random.normal([5, 5], 0, 1)\n",
    "\n",
    "print('NumPy array:\\n', np_arr, '\\n')\n",
    "print('Tensorflow array:\\n', tf_arr, '\\n')"
   ],
   "metadata": {
    "collapsed": false
   }
  },
  {
   "cell_type": "markdown",
   "metadata": {
    "id": "IDAxwKNDUMrH"
   },
   "source": [
    "### Zadanie 1\n",
    "\n",
    "Zaalokuj tablicę samych zer o wymiarze 2 x 2. Następnie utwórz tablicę jedynek o tym samym wymiarze (wykorzystaj funkcję ones_like)."
   ]
  },
  {
   "cell_type": "code",
   "metadata": {
    "id": "lnt4cj4vWhms"
   },
   "source": [
    "# alokacja zer\n",
    "z = tf.zeros((2, 2))\n",
    "\n",
    "# alokacja jedynek\n",
    "o = tf.ones_like(z)\n",
    "\n",
    "print(z)\n",
    "print(o)"
   ],
   "execution_count": 118,
   "outputs": [
    {
     "name": "stdout",
     "output_type": "stream",
     "text": [
      "tf.Tensor(\n",
      "[[0. 0.]\n",
      " [0. 0.]], shape=(2, 2), dtype=float32)\n",
      "tf.Tensor(\n",
      "[[1. 1.]\n",
      " [1. 1.]], shape=(2, 2), dtype=float32)\n"
     ]
    }
   ]
  },
  {
   "cell_type": "markdown",
   "metadata": {
    "id": "RAy5wHavW0Gc"
   },
   "source": [
    "Również operacje na danych wyglądają podobnie w Tensorflow:"
   ]
  },
  {
   "cell_type": "code",
   "metadata": {
    "id": "CsL2HNwZXcYl",
    "colab": {
     "base_uri": "https://localhost:8080/",
     "height": 35
    },
    "outputId": "1c08568b-b802-4150-d60e-568518e83539"
   },
   "source": [
    "a = tf.constant([1, 2, 3], dtype=tf.float32)\n",
    "b = tf.constant([5, 2, 3], dtype=tf.float32)\n",
    "\n",
    "c = a + b\n",
    "d = a * b\n",
    "e = a ** 2 + b ** 3\n",
    "f = tf.sqrt(e)\n",
    "\n",
    "print(f)"
   ],
   "execution_count": 119,
   "outputs": [
    {
     "name": "stdout",
     "output_type": "stream",
     "text": [
      "tf.Tensor([11.224972   3.4641016  6.       ], shape=(3,), dtype=float32)\n"
     ]
    }
   ]
  },
  {
   "cell_type": "markdown",
   "metadata": {
    "id": "xIo9g-OZI-jv"
   },
   "source": [
    "### Zmienne w TensorFlow"
   ]
  },
  {
   "cell_type": "markdown",
   "metadata": {
    "id": "RZW2QB-HJDxu"
   },
   "source": [
    "Tensorflow posiada specjalny rodzaj obiektów, które reprezentują **zmienne uczone**. Poniżej zostało zaprezentowane wykorzystanie zmiennych uczonych.\n",
    "\n",
    "Każda operacja w TensorFlow tworzy na wyjściu **tensor**, przez który można automatycznie propagować błąd. "
   ]
  },
  {
   "cell_type": "code",
   "metadata": {
    "id": "tpLPMsD0JeB_",
    "colab": {
     "base_uri": "https://localhost:8080/",
     "height": 34
    },
    "outputId": "d09ad9c4-bf89-4e86-932a-0fd595b98899"
   },
   "source": [
    "# zmienne uczone dla pojedynczej warstwy neuronowej (5 neuronów)\n",
    "w = tf.Variable(tf.random.uniform([128, 5]))\n",
    "b = tf.Variable(tf.random.uniform([5]))\n",
    "\n",
    "# definicja warstwy w pełni połączonej\n",
    "def neuron_layer(x):\n",
    "  return x @ w + b\n",
    "\n",
    "# losowy wektor wejściowy i inferencja (odpytanie) sieci neuronowej\n",
    "x = tf.random.uniform([1, 128])\n",
    "y = neuron_layer(x)\n",
    "\n",
    "print(y)"
   ],
   "execution_count": 120,
   "outputs": [
    {
     "name": "stdout",
     "output_type": "stream",
     "text": [
      "tf.Tensor([[35.014496 34.582333 36.211212 34.224316 35.15509 ]], shape=(1, 5), dtype=float32)\n"
     ]
    }
   ]
  },
  {
   "cell_type": "markdown",
   "metadata": {
    "id": "_ah23dQ-KYdI"
   },
   "source": [
    "Zmienne w TensorFlow można dowolnie modyfikować operacją *assign* (oraz jej pochodnymi wersjami).\n",
    "\n",
    "**Uwaga:** Zmienne oraz wszelkie tensory w TensorFlow można przekształcić do tablicy Numpy wywołując funkcję *.numpy()*."
   ]
  },
  {
   "cell_type": "code",
   "metadata": {
    "id": "DFaFBDxdKe4S",
    "colab": {
     "base_uri": "https://localhost:8080/",
     "height": 85
    },
    "outputId": "a5294563-3937-4735-88ec-1194599c3d99"
   },
   "source": [
    "# inicjalizacja zmiennej z losowymi wartościami\n",
    "b = tf.Variable(tf.random.uniform([5]))\n",
    "\n",
    "print(b.numpy())\n",
    "\n",
    "# wykonanie operacji dodawania na zmiennej\n",
    "b.assign_add([1, 0, 0, 1, 0])\n",
    "\n",
    "print(b.numpy())\n",
    "\n",
    "# wykonanie operacji odejmowania na zmiennej\n",
    "b.assign_sub([1, 0, 0, 1, 0])\n",
    "\n",
    "print(b.numpy())\n",
    "\n",
    "# wykonanie operacji przypisania na zmiennej\n",
    "b.assign([1, 2, 3, 4, 5])\n",
    "\n",
    "print(b.numpy())"
   ],
   "execution_count": 121,
   "outputs": [
    {
     "name": "stdout",
     "output_type": "stream",
     "text": [
      "[0.85214543 0.3817674  0.9092159  0.52043223 0.9349116 ]\n",
      "[1.8521454 0.3817674 0.9092159 1.5204322 0.9349116]\n",
      "[0.85214543 0.3817674  0.9092159  0.52043223 0.9349116 ]\n",
      "[1. 2. 3. 4. 5.]\n"
     ]
    }
   ]
  },
  {
   "cell_type": "markdown",
   "metadata": {
    "id": "-Sh_nuvpLfJu"
   },
   "source": [
    "### Funkcje aktywacji i straty w TensorFlow"
   ]
  },
  {
   "cell_type": "markdown",
   "metadata": {
    "id": "zbUbMgx0LkXd"
   },
   "source": [
    "TensorFlow jest biblioteką przygotowaną do **Machine Learningu**. Wiele operacji bardzo często się powtarza w wielu zagadnieniach, np. funkcje aktywacji, funkcje straty, metryki, rodzaje warstw (operacji), itp. Stąd, w bilbiotece tej możemy znaleźć już gotowe komponenty, które można z łatwością wykorzystać.\n",
    "\n",
    "Poniżej zaprezentowane zostały gotowe funkcje aktywacji oraz straty."
   ]
  },
  {
   "cell_type": "code",
   "metadata": {
    "id": "v_Z84f4NMI0_",
    "colab": {
     "base_uri": "https://localhost:8080/",
     "height": 153
    },
    "outputId": "2ba4bdaf-7ee3-44ba-a283-aadd755bbbff"
   },
   "source": [
    "a = tf.random.uniform([5], -1, 1)\n",
    "\n",
    "a_relu = tf.nn.relu(a)\n",
    "a_sigmoid = tf.nn.sigmoid(a)\n",
    "a_softmax = tf.nn.softmax(a, -1)\n",
    "a_tanh = tf.nn.tanh(a)\n",
    "\n",
    "# max(x, 0)\n",
    "print('Relu:', a_relu.numpy())\n",
    "# wyjście w przedziale (0, 1)\n",
    "print('Sigmoid:', a_sigmoid.numpy())\n",
    "# wyjście w przedziale (0, 1) a suma jest równa 1\n",
    "print('Softmax:', a_softmax.numpy())\n",
    "print('Tangens hiperboliczny:', a_tanh.numpy(), '\\n')\n",
    "\n",
    "# batch o wielkości 2\n",
    "y = tf.random.uniform([2, 5], 0, 1)\n",
    "y_hat = tf.random.uniform([2, 5], 0, 1)\n",
    "\n",
    "# dla każdego elementu w batch'u błąd jest wyliczony osobno\n",
    "y_mse = tf.losses.mean_squared_error(y_hat, y)\n",
    "y_mae = tf.losses.mean_absolute_error(y_hat, y)\n",
    "# from_logits oznacza, że funkcja aktywacji (softmax) będzie wywołana wewnątrz funkcji straty, a więc wyjście z sieci powinno być liniowe\n",
    "y_ce = tf.losses.categorical_crossentropy(y_hat, y, from_logits=True)\n",
    "\n",
    "print('MSE:', y_mse)\n",
    "print('MAE:', y_mae)\n",
    "print('CE:', y_ce)\n"
   ],
   "execution_count": 122,
   "outputs": [
    {
     "name": "stdout",
     "output_type": "stream",
     "text": [
      "Relu: [0.05959582 0.         0.         0.4173422  0.49763513]\n",
      "Sigmoid: [0.5148945  0.49224922 0.33223113 0.60284704 0.6219034 ]\n",
      "Softmax: [0.18650138 0.17034695 0.08742066 0.26671615 0.28901482]\n",
      "Tangens hiperboliczny: [ 0.05952536 -0.03099569 -0.6031676   0.394689    0.46025527] \n",
      "\n",
      "MSE: tf.Tensor([0.380478   0.12720932], shape=(2,), dtype=float32)\n",
      "MAE: tf.Tensor([0.5848356  0.32450283], shape=(2,), dtype=float32)\n",
      "CE: tf.Tensor([4.4288645 5.1394033], shape=(2,), dtype=float32)\n"
     ]
    }
   ]
  },
  {
   "cell_type": "markdown",
   "metadata": {
    "id": "RxSdsMUWD9ci"
   },
   "source": [
    "### Graph Execution"
   ]
  },
  {
   "cell_type": "markdown",
   "metadata": {
    "id": "hJIwUfddR9Gl"
   },
   "source": [
    "Na potrzeby optymalizacji Google wprowadziło (przywróciło) możliwość definiowania grafów przetwarzania. Przetwarzanie grafowe polega na przekształceniu ciągu operacji do grafu, który następnie jest optymalizowany (np. poprzez zastąpienie instrukcji 'for' przez 'tf.while_loop').\n",
    "\n",
    "Aby zoptymalizować działanie kodu należy umieścić dane operacje w definicji funkcji opatrzonej w adnotację  @tf.function.\n",
    "\n",
    "**Uwaga**\n",
    "Po przekształceniu na graf tracimy możliwość łatwego debugowania kodu. Operacje przekształcane są do niskopoziomowej reprezentacji TensorFlow, znanej z wersji 1.x."
   ]
  },
  {
   "cell_type": "code",
   "metadata": {
    "id": "ets0mmTSUVsK"
   },
   "source": [
    "import time\n",
    "\n",
    "# funkcja pomocnicza do mierzenia czasu wykonania funkcji\n",
    "\n",
    "def speed_test(iters, func, *arg):\n",
    "  start = time.perf_counter()\n",
    "  for i in range(iters):\n",
    "    func(*arg)\n",
    "  end = time.perf_counter()\n",
    "  return f\"{end - start:.4f}sec\""
   ],
   "execution_count": 123,
   "outputs": []
  },
  {
   "cell_type": "code",
   "metadata": {
    "id": "OS0cUgx3E5um"
   },
   "source": [
    "# część wspólna operacji wywołanych w graph i eager execution\n",
    "def eager_op(inputs):\n",
    "  x = inputs ** 2\n",
    "  z = tf.transpose(tf.ones_like(x))\n",
    "\n",
    "  for i in range(100):\n",
    "    # @ oznacza operację matmul\n",
    "    x = inputs @ x\n",
    "\n",
    "  # ile razy wywoła się ta linia w graph a ile w eager execution i dlaczego? \n",
    "  print('Ops function executed')\n",
    "\n",
    "  return x\n",
    "\n",
    "# graph execution wykonuje dokładnie te same operacje\n",
    "@tf.function\n",
    "def graph_op(inputs):\n",
    "  return eager_op(inputs)"
   ],
   "execution_count": 124,
   "outputs": []
  },
  {
   "cell_type": "code",
   "metadata": {
    "id": "gn-jG-qcTbEo",
    "colab": {
     "base_uri": "https://localhost:8080/",
     "height": 272
    },
    "outputId": "1c682b48-a2b1-446d-fa96-147c933e6859"
   },
   "source": [
    "a = tf.random.uniform([1024, 1024], 0, 1)\n",
    "\n",
    "print('------------ Eager Execution -----------')\n",
    "print(speed_test(10, eager_op, a), 'sec')\n",
    "\n",
    "print('------------ Graph Execution -----------')\n",
    "print(speed_test(10, graph_op, a), 'sec')"
   ],
   "execution_count": 125,
   "outputs": [
    {
     "name": "stdout",
     "output_type": "stream",
     "text": [
      "------------ Eager Execution -----------\n",
      "Ops function executed\n",
      "Ops function executed\n",
      "Ops function executed\n",
      "Ops function executed\n",
      "Ops function executed\n",
      "Ops function executed\n",
      "Ops function executed\n",
      "Ops function executed\n",
      "Ops function executed\n",
      "Ops function executed\n",
      "6.3759sec sec\n",
      "------------ Graph Execution -----------\n",
      "Ops function executed\n",
      "5.3819sec sec\n"
     ]
    }
   ]
  },
  {
   "cell_type": "markdown",
   "metadata": {
    "id": "gQ-XK5nUEUWd"
   },
   "source": [
    "## Algorytm wstecznej propagacji błędu"
   ]
  },
  {
   "cell_type": "markdown",
   "metadata": {
    "id": "ZWWYxKRmguWl"
   },
   "source": [
    "Do wyprowadzenia wzorów na aktualizację zmiennych w algorytmie niezbędna jest znajomość zagadnień **chain-rule** oraz **multivariable chain-rule**. Poza podstawową wiedzą z matematyki są to jedyne niezbędne zagadnienia.\n",
    "\n",
    "### Chain-rule & Multivariable Chain-rule\n",
    "\n",
    "Poniżej zostały zaprezentowane zagadnienia **chain-rule** oraz **multivariable chain-rule** w sposób intuicyjny (i graficzny). Poniższa notacja została zaczerpnięta z sieci neuronowych, aby skojarzyć związek z algorytmem **backpropagation**.\n",
    "\n",
    "#### Chain-rule\n",
    "\n",
    "Jest to reguła opierająca się na pochodnej funkcji złożonej. W graficzny sposób można to pokazać następująco:\n",
    "\n",
    "![chain-rule](https://drive.google.com/uc?id=1S8pSUrrOzoisKr8d8YJaQHNLYgEq2dpk)\n",
    "\n",
    "Gdzie $L$ to pewna funkcja dla której liczymy pochodną względem zmiennej $w$. Jak widać, $L$ zależy od $y$, który zależy od $z$ który dopiero zależy bezpośrednio od $w$. Zależności tworzą łańcuch, skąd pochodzi nazwa **chain-rule**.\n",
    "\n",
    "#### Multivariable Chain-rule\n",
    "\n",
    "W przypadku gdy \"łańcuch\" w pewnym momencie się rozgałęzia, dalej możemy korzystać z zasady **chain-rule**, jednak tym razem przybiera ona formę nieco inną (lecz dalej intuicyjną):\n",
    "\n",
    "![multivariable-chain-rule](https://drive.google.com/uc?id=13WH6JXd_5rnTkyToKrBcCZDPdUXCqoT8)\n",
    "\n",
    "W tym przypadku, pochodna funkcji $L$ po zmiennej $z$ wyrażona jest jako suma pochodnych funkcji złożonych odpowiednio $y_1$ oraz $y_2$.\n",
    "\n",
    "<!-- \\\\ %ib: chyba nie jest to tak dobry przykład, jak myślałem...\n",
    "\n",
    "##### **Przykład:**\n",
    "Załóżmy, że mamy funkcję $f(x) = x\\cdot ln(x)$. Możemy ją przedstawić jako $f(x) = g(x)\\cdot h(x)$, gdzie $g(x)=x$ i $h(x)=ln(x)$. Korzystając z multivariable chain-rule możemy wyprowadzić:\n",
    "\n",
    "$$\\frac{\\partial f(x)}{\\partial x} = \\frac{\\partial g(x)h(x)}{\\partial x} = \\frac{\\partial g(x)h(x)}{\\partial g(x)} \\frac{\\partial g(x)}{\\partial x} + \\frac{\\partial g(x)h(x)}{\\partial h(x)} \\frac{\\partial h(x)}{\\partial x} = h(x)\\cdot 1 + g(x)\\cdot \\frac{1}{x} = ln(x) + 1$$\n",
    "\n",
    "Zwróć uwagę, że wzór na pochodną iloczynu jest szczególnym przypadkiem multivariable chain-rule:\n",
    "$$(g(x)h(x))' = g'(x)h(x) + g(x)h'(x) = 1\\cdot ln(x) + x\\cdot\\frac{1}{x} = ln(x) + 1$$ -->\n",
    "\n",
    "\\\\\n",
    "\n",
    "### Backpropagation\n",
    "\n",
    "Algorytm **wstecznej propagacji błędu** jest właściwie jedynie rozwinięciem **reguły delta**, która została przedstawiona na pierwszych zajęciach. Podobnie jak poprzednio, uczenie neuronów opisane jest w następujący sposób:\n",
    "\n",
    "$$w_i' = w_i - \\mu \\frac{\\partial L}{\\partial w_i} $$\n",
    "\n",
    "Jedyną różnicą jest sposób w jaki się wylicza gradient. Nawiązując do powyższych, krótkich wyjaśnień **chain-rule**, w podobny sposób należy traktować sieci neuronowe. \n",
    "\n",
    "**Dla warstwy wyjściowej** gradient można przedstawić następująco:\n",
    "\n",
    "$$\\frac{\\partial L}{\\partial w_{ij}} = \\frac{\\partial L}{\\partial y_j} \\frac{\\partial y_j}{\\partial w_{ji}} = \\frac{\\partial L}{\\partial y_j} \\frac{\\partial y_j}{\\partial z_j}\\frac{\\partial z_j}{\\partial w_{ji}}$$\n",
    "\n",
    "Albo inaczej:\n",
    "\n",
    "$$\\frac{\\partial L}{\\partial w_{ij}} = \\delta_j o_i$$\n",
    "\n",
    "Gdzie $w_{ji}$ oznacza wagę połączenia pomiędzy neuronem $j$ a $i$, $\\delta_j = \\frac{\\partial L}{\\partial y_j} \\frac{\\partial y_j}{\\partial z_j}$ oraz $o_i$ to wyjście z neuronu $i$ (dla neuronów w pierwszej warstwie będą to wejścia do sieci, natomiast w kolejnych warstwach będą to wyjścia z neuronów poprzednich).\n",
    "\n",
    "**Dla warstwy ukrytej** sprawa nieco bardziej się komplikuje. Weźmy jako przykład następującą prostą sieć z 2 warstwami i łącznie 3 neuronami:\n",
    "\n",
    "![simplenet](https://drive.google.com/uc?id=1NXHjEWUX3gAbn8NnHh9eGWdQaSNDavKW)\n",
    "\n",
    "Dla warstwy wyjściowej możemy skorzystać jedynie z **chain-rule** uzyskując następujące równanie:\n",
    "\n",
    "$$\\frac{\\partial L}{\\partial w^{2}_{i}} = \\frac{\\partial L}{\\partial y^{2}_i} \\frac{\\partial y^{2}_i}{\\partial z^{2}_i}\\frac{\\partial z^{2}_i}{\\partial w^{2}_{i}} = \\delta^2_i y^1_1$$\n",
    "\n",
    "Przy obliczaniu gradientu dla warstwy ukrytej najpierw stosujemy  proste **chain-rule**:\n",
    "\n",
    "$$\\frac{\\partial L}{\\partial w^{1}_{1}} = \\frac{\\partial L}{\\partial y^{1}_1} \\frac{\\partial y^{1}_1}{\\partial z^{1}_1}\\frac{\\partial z^{1}_1}{\\partial w^{1}_{1}}$$\n",
    "\n",
    "W tym momencie można zauważyć, że jest możliwe zastosowanie **multivariable chain-rule** do wyrażenia $\\frac{\\partial L}{\\partial y^{1}_1}$ (ponieważ $L$ nie zależy bezpośrednio od $y^{1}_1$, oraz występuje \"rozgałęzienie\" od $y$):\n",
    "\n",
    "$$\\frac{\\partial L}{\\partial y^{1}_1} = \\frac{\\partial L}{\\partial y^{2}_1} \\frac{\\partial y^{2}_1}{\\partial y^{1}_1} + \\frac{\\partial L}{\\partial y^{2}_2} \\frac{\\partial y^{2}_2}{\\partial y^{1}_1} = \\frac{\\partial L}{\\partial y^{2}_1} \\frac{\\partial y^{2}_1}{\\partial z^{2}_1}\\frac{\\partial z^{2}_1}{\\partial y^{1}_1} + \\frac{\\partial L}{\\partial y^{2}_2} \\frac{\\partial y^{2}_2}{\\partial z^{2}_2} \\frac{\\partial z^{2}_2}{\\partial y^{1}_1}$$\n",
    "\n",
    "Tu można zauważyć, że $\\frac{\\partial z^{2}_2}{\\partial y^{1}_1} = w^2_2$ oraz $\\frac{\\partial L}{\\partial y^{2}_2} \\frac{\\partial y^{2}_2}{\\partial z^{2}_2} = \\delta^2_2$ (przy założeniu liniowej funkcji aktywacji), co daje nam końcowo:\n",
    "\n",
    "$$\\frac{\\partial L}{\\partial y^{1}_1} = \\sum_i^2 \\delta^2_i w^2_i$$\n",
    "\n",
    "Podstawiając do wcześniejszego wzoru otrzymujemy:\n",
    "\n",
    "$$\\frac{\\partial L}{\\partial w^{1}_{1}} = \\sum_i^2 \\delta^2_i w^2_i \\frac{\\partial y^{1}_1}{\\partial z^{1}_1}\\frac{\\partial z^{1}_1}{\\partial w^{1}_{1}}$$\n",
    "\n",
    "Ostatecznie, za pomocą następujących podstawień możemy sprowadzić powyższe równanie do wersji spójnej z gradientem dla warstwy wyjściowej:\n",
    "\n",
    "$$\\sum_i^2 \\delta^2_i w^2_i \\frac{\\partial y^{1}_1}{\\partial z^{1}_1} = \\delta^1_1$$\n",
    "$$\\frac{\\partial z^{1}_1}{\\partial w^{1}_{1}} = x$$\n",
    "$$\\frac{\\partial L}{\\partial w^{1}_{1}} = \\delta^1_1 x$$\n",
    "\n",
    "\n",
    "\n",
    "---\n",
    "\n",
    "Podsumowując, zarówno dla warstwy wyjściowej jak i warstwy ukrytej gradienty możemy przedstawić w tej samej formie, składającej się z **błędu neuronu** ($\\delta$), oraz wyjścia z poprzedniej warstwy ($y$ lub $x$).\n",
    "\n",
    "$$\\frac{\\partial L}{\\partial w^{i}_{j}} = \\delta^i_j o^{(i-1)}$$"
   ]
  },
  {
   "cell_type": "markdown",
   "metadata": {
    "id": "TJKj35Ykeqzn"
   },
   "source": [
    "### Automatyczna wsteczna propagacja błędu"
   ]
  },
  {
   "cell_type": "markdown",
   "metadata": {
    "id": "DA3PfOaWcE9q"
   },
   "source": [
    "Można rozpatrywać różne algorytmy optymalizacji działające na bazie algorytmu wstecznej propagacji błędu, który sam w sobie jest po prostu pewną strategią przydziału informacji o błędzie do zmiennych, a to jak na tej podstawie będziemy je modyfikować pozostaje otwartą kwestią. Jednym z prostszych optymalizatorów jest **Stochastic Gradient Descent** (SGD). Różni się od klasycznego Gradient Descent tym, że w jego przypadku gradient liczony jest w każdej iteracji dla losowo wybranego podzbioru danych uczących zamiast dla wszystkich. Innym popularnym optymalizatorem jest **ADAM** (od \"adaptive moment estimation\"), który każdą zmienną modyfikuje na podstawie jej statystycznych momentów (rzędu 1 i 2) gradientu w pewnym oknie czasowym. Ogólnie konstruowanie optymalizatorów opartych na gradiencie to cała osobna obszerna dziedzina naukowa. Przykładowo, na niektórych problemach ADAM ma znacznie szybszą zbieżność niż SGD, ale na innych zauważalnie gorzej radzi sobie z uogólnieniem wiedzy i w efekcie błąd na zbiorze testowym jest większy.\n",
    "\n",
    "Poniżej zaprezentowany został algorytm wstecznej propagacji błędu zaimplementowany w bibliotece TensorFlow. Przykład składa się z definicji sieci neuronowej, funkcji straty oraz jednego kroku uczenia przy użyciu gotowego optymalizatora."
   ]
  },
  {
   "cell_type": "markdown",
   "metadata": {
    "id": "gyUufSiJEgUH"
   },
   "source": [
    "### Prosta sieć neuronowa"
   ]
  },
  {
   "cell_type": "code",
   "metadata": {
    "id": "Ra9SuKPAE1wU"
   },
   "source": [
    "# zmienne uczone pojedynczego neuronu, który na wejście otrzymuje wektor 10 liczb.\n",
    "w = tf.Variable(tf.ones([10, 1]))\n",
    "b = tf.Variable(tf.ones([1]))\n",
    "\n",
    "# definicja 1-warstwowej sieci neuronowej z funkcją aktywacji relu\n",
    "# (@ jest aliasem do tf.matmul())\n",
    "def network(x):\n",
    "  return tf.nn.relu(x @ w + b)"
   ],
   "execution_count": 126,
   "outputs": []
  },
  {
   "cell_type": "markdown",
   "metadata": {
    "id": "c97P9HzdEnID"
   },
   "source": [
    "### Funkcja straty"
   ]
  },
  {
   "cell_type": "markdown",
   "metadata": {
    "id": "JAaD7jSpyUmk"
   },
   "source": [
    "W poniższym kodzie tf.reduce_mean to odpowiednik np.mean i działa tak samo. Jako drugi argument można podać wymiar, po którym liczona będzie średnia (domyślnie liczona jest z wszystkich wymiarów). Jeżeli chodzi o *reduce* (nazywane również *fold*) w nazwie, to jest to schemat obliczeń często wykorzystywany w paradygmacie programowania funkcyjnego, i polega na rekurencyjnym przechodzeniu przez strukturę przy jednoczesnym konstruowaniu nowej, w pewnym sensie redukując tę strukturę (np. macierz liczb) do nowej struktury (np. liczby)."
   ]
  },
  {
   "cell_type": "code",
   "metadata": {
    "id": "sqwbPkFiE2UZ"
   },
   "source": [
    "# mean squared error jako funkcja straty\n",
    "def loss(y_pred, y_true):\n",
    "  return tf.reduce_mean((y_pred - y_true) ** 2)"
   ],
   "execution_count": 127,
   "outputs": []
  },
  {
   "cell_type": "markdown",
   "metadata": {
    "id": "EWv0Fg36Epug"
   },
   "source": [
    "### Obliczenie gradientu"
   ]
  },
  {
   "cell_type": "code",
   "metadata": {
    "id": "-ejn6iHQE2kw",
    "colab": {
     "base_uri": "https://localhost:8080/",
     "height": 204
    },
    "outputId": "c7566c02-35fc-462c-e41f-aea00caa9fcc"
   },
   "source": [
    "# wsteczna propagacja błędu obsługiwana jest przez optymalizatory dostępne w bibliotece TensorFlow; tutaj użyliśmy Adam'a.\n",
    "optimizer = tf.optimizers.Adam(0.001)\n",
    "#optimizer = tf.optimizers.SGD(0.001)  # a tutaj Stochastic Gradient Descent\n",
    "\n",
    "# wejście oraz pożądane wyjście z sieci neuronowej\n",
    "x = tf.random.uniform([32, 10])\n",
    "y_true = tf.ones([32, 1])\n",
    "\n",
    "# obiekt gradient tape pozwala na \"nagrywanie\" pochodnych operacji wykonanych wewnątrz struktury \"with ... :\"\n",
    "with tf.GradientTape() as tape:\n",
    "  y_pred = network(x)\n",
    "  error = loss(y_pred, y_true)\n",
    "\n",
    "# pobranie interesujących nas gradientów (tylko dla uczonych zmiennych!)\n",
    "grads = tape.gradient(error, [w, b])\n",
    "# oraz ich użycie przez optymalizator\n",
    "optimizer.apply_gradients(zip(grads, [w, b]))\n",
    "\n",
    "print(grads)"
   ],
   "execution_count": 128,
   "outputs": [
    {
     "name": "stdout",
     "output_type": "stream",
     "text": [
      "[<tf.Tensor: shape=(10, 1), dtype=float32, numpy=\n",
      "array([[4.798718 ],\n",
      "       [5.954609 ],\n",
      "       [5.5307503],\n",
      "       [4.8848777],\n",
      "       [5.9512835],\n",
      "       [5.327545 ],\n",
      "       [5.065139 ],\n",
      "       [5.673643 ],\n",
      "       [5.575861 ],\n",
      "       [6.4184666]], dtype=float32)>, <tf.Tensor: shape=(1,), dtype=float32, numpy=array([10.366653], dtype=float32)>]\n"
     ]
    }
   ]
  },
  {
   "cell_type": "markdown",
   "metadata": {
    "id": "idPo7uRZexv9"
   },
   "source": [
    "#### Zadanie 2"
   ]
  },
  {
   "cell_type": "markdown",
   "metadata": {
    "id": "IFKkCPhgezMI"
   },
   "source": [
    "Korzystając z wiedzy z tych i poprzednich zajęć stwórz sieć neuronową składającą się z 3 warstw o rozmiarach odpowiednio 1, 2, 1. Niech w pierwszej i drugiej warstwie funkcją aktywacji będzie sigmoid a wyjście z sieci funkcją liniową. Skorzystaj z funkcji straty MSE.\n",
    "\n",
    "Naucz sieć neuronową, aby wykonywała funkcję **sinus** (wejściem sieci niech będzie kąt wyrażony w radianach). Trening sieci powinien polegać na wykonaniu algorytmu wstecznej propagacji błędu **ITERS** razy. Każda iteracja niech przetwarza **batch** danych o rozmiarze 16. Do nauki sieci wykorzystaj algorytm **Stochastic Gradient Descent** (tf.optimizers.SGD).\n",
    "\n",
    "W celu optymalizacji szybkości działania, dodaj do definicji modelu adnotację @tf.function.\n",
    "\n",
    "Przy domyślnych parametrach wyjdzie zasadniczo linia prosta na zerze. Poeksperymentuj z prędkością uczenia i liczbą iteracji, by poprawić ten rezultat. Sprawdź, jak działa ReLU dla tego problemu. Dla sigmoidalnej funkcji aktywacji rezultat powinien przypominać następujący wykres:\n",
    "![alt text](https://www.cs.put.poznan.pl/ibladek/students/eio/img/expected_sine.png)\n"
   ]
  },
  {
   "cell_type": "code",
   "metadata": {
    "id": "A2Urm0SzgDv-"
   },
   "source": [
    "import math\n",
    "import tensorflow as tf\n",
    "import numpy as np\n",
    "import matplotlib.pyplot as plt\n",
    "\n",
    "\n",
    "# pierwsza warstwa\n",
    "w1 = tf.Variable(tf.ones([1, 1]))\n",
    "b1 = tf.Variable(tf.ones([1]))\n",
    "\n",
    "# druga warstwa\n",
    "w2 = tf.Variable(tf.ones([1, 2]))\n",
    "b2 = tf.Variable(tf.ones([2]))\n",
    "\n",
    "# trzecia warstwa\n",
    "w3 = tf.Variable(tf.ones([2, 1]))\n",
    "b3 = tf.Variable(tf.ones([1]))\n",
    "\n",
    "loss = tf.losses.mse\n",
    "from pipe import Pipe\n",
    "\n",
    "def layer_1(x):\n",
    "  return x @ w1 + b1\n",
    "\n",
    "def layer_2(x):\n",
    "  return x @ w2 + b2\n",
    "\n",
    "def layer_3(x):\n",
    "  return x @ w3 + b3\n",
    "\n",
    "network = pipe(layer_1, tf.nn.sigmoid, layer_2, tf.nn.sigmoid, layer_3)\n",
    "\n",
    "iters = 5_000\n",
    "mu = 0.01  # prędkość uczenia\n",
    "variables = [w1, b1, w2, b2, w3, b3]\n",
    "optimizer = tf.optimizers.SGD(mu)\n",
    "\n",
    "# Backpropagation\n",
    "for _ in range(iters):\n",
    "  # dane wejściowe\n",
    "  x = tf.random.uniform([16, 1], 0, math.pi * 2)\n",
    "  # dane uczące (ground truth)\n",
    "  y_true = tf.math.sin(x)\n",
    "\n",
    "  with tf.GradientTape() as tape:\n",
    "    y_pred = network(x)\n",
    "    error = tf.losses.mse(y_true, y_pred)\n",
    "\n",
    "  gradients = tape.gradient(error, variables)\n",
    "  optimizer.apply_gradients(zip(gradients, variables))\n",
    "\n",
    "# testowanie sieci na zbiorze testowym\n",
    "# wymiary są zmieniane by xs zostało zaakceptowane jako wejście do sieci\n",
    "xs = np.linspace(0, 2 * math.pi, 100, dtype=np.float32).reshape([100, 1])\n",
    "ys1 = np.sin(xs)\n",
    "ys2 = network(xs)\n",
    "plt.plot(xs, ys1, xs, ys2)\n",
    "plt.show()"
   ],
   "execution_count": 137,
   "outputs": [
    {
     "data": {
      "text/plain": "<Figure size 640x480 with 1 Axes>",
      "image/png": "[encoded data removed]"
     },
     "metadata": {},
     "output_type": "display_data"
    }
   ]
  },
  {
   "cell_type": "markdown",
   "metadata": {
    "id": "rePvYrKH51OD"
   },
   "source": [
    "#### Zadanie 3"
   ]
  },
  {
   "cell_type": "markdown",
   "metadata": {
    "id": "3_yWbmVHhCWj"
   },
   "source": [
    "Wykonaj ponownie zadanie 2, tym razem samodzielnie implementując algorytm backpropagation."
   ]
  },
  {
   "cell_type": "code",
   "metadata": {
    "id": "zfcJ-fiiiK0i",
    "pycharm": {
     "is_executing": true
    }
   },
   "source": [
    "import math\n",
    "import tensorflow as tf\n",
    "import numpy as np\n",
    "import matplotlib.pyplot as plt\n",
    "\n",
    "\n",
    "# pierwsza warstwa\n",
    "w1 = tf.Variable(tf.ones([1, 1]))\n",
    "b1 = tf.Variable(tf.ones([1]))\n",
    "\n",
    "# druga warstwa\n",
    "w2 = tf.Variable(tf.ones([1, 2]))\n",
    "b2 = tf.Variable(tf.ones([2]))\n",
    "\n",
    "# trzecia warstwa\n",
    "w3 = tf.Variable(tf.ones([2, 1]))\n",
    "b3 = tf.Variable(tf.ones([1]))\n",
    "\n",
    "def layer_1(x):\n",
    "  return x @ w1 + b1\n",
    "\n",
    "def layer_2(x):\n",
    "  return x @ w2 + b2\n",
    "\n",
    "def layer_3(x):\n",
    "  return x @ w3 + b3\n",
    "\n",
    "network = pipe(layer_1, tf.nn.sigmoid, layer_2, tf.nn.sigmoid, layer_3)\n",
    "\n",
    "def d_sigmoid(z):\n",
    "  sigma = tf.sigmoid(z)\n",
    "  return sigma * (1 - sigma)\n",
    "\n",
    "iters = 5_000\n",
    "mu = 0.1\n",
    "for i in range(iters):\n",
    "  x = tf.random.uniform([16, 1], 0, math.pi * 2)\n",
    "  y_true = tf.math.sin(x)\n",
    "\n",
    "  # forwardfeed\n",
    "  z1 = layer_1(x)\n",
    "  y1 = tf.sigmoid(z1)\n",
    "\n",
    "  z2 = layer_2(y1)\n",
    "  y2 = tf.sigmoid(z2)\n",
    "\n",
    "  z3 = layer_3(y2)\n",
    "  y3 = z3\n",
    "  y_pred = y3\n",
    "\n",
    "  # backpropagation\n",
    "  d3 = 2 * (y_pred - y_true)\n",
    "  dw3 = tf.expand_dims(tf.reduce_mean(d3 * y2, axis=0), axis=1)\n",
    "  db3 = tf.reduce_mean(d3, axis=0)\n",
    "\n",
    "  d2 = (d3 @ tf.transpose(w3)) * d_sigmoid(z2)\n",
    "  dw2 = tf.reduce_mean(d2 * y1, axis=0)\n",
    "  db2 = tf.reduce_mean(d2, axis=0)\n",
    "\n",
    "  d1 = (d2 @ tf.transpose(w2)) * d_sigmoid(z1)\n",
    "  dw1 = tf.reduce_mean(d1 * x, axis=0)\n",
    "  db1 = tf.reduce_mean(d1, axis=0)\n",
    "\n",
    "  # update\n",
    "  w3 = w3 - mu * dw3\n",
    "  w2 = w2 - mu * dw2\n",
    "  w1 = w1 - mu * dw1\n",
    "  b3 = b3 - mu * db3\n",
    "  b2 = b2 - mu * db2\n",
    "  b1 = b1 - mu * db1\n",
    "\n",
    "# testowanie sieci na zbiorze testowym\n",
    "# wymiary są zmieniane by xs zostało zaakceptowane jako wejście do sieci\n",
    "xs = np.linspace(0, 2 * math.pi, 100, dtype=np.float32).reshape([100, 1])\n",
    "ys1 = np.sin(xs)\n",
    "ys2 = network(xs)\n",
    "plt.plot(xs, ys1, xs, ys2)\n",
    "plt.show()"
   ],
   "execution_count": null,
   "outputs": []
  }
 ]
}
