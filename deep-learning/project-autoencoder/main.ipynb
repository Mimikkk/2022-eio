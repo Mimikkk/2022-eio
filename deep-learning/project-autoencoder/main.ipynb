{
 "nbformat": 4,
 "nbformat_minor": 0,
 "metadata": {
  "colab": {
   "provenance": [],
   "toc_visible": true
  },
  "kernelspec": {
   "name": "python3",
   "display_name": "Python 3"
  }
 },
 "cells": [
  {
   "cell_type": "markdown",
   "source": [
    "# Projekt Autoenkoder\n",
    "Indeks: 145317\n",
    "\n",
    "Wymagania:\n",
    "- stworzenie sieci neuronowej typu autoencoder\n",
    "- dane wejściowe to obrazy czarno-białe (1 kanał)\n",
    "- dane wyjściowe to obrazy kolorowe (3 kanały)\n",
    "- badanie różnych rozmiarów sieci neuronowej\n",
    "- badanie wpływu poszczególnych elementów regularyzacji na wynik:\n",
    "  - wpływ parametru momentum oraz rozmiaru batcha przy wykorzystaniu batch normalization\n",
    "  - wpływ dropout rate\n",
    "  - wpływ weight decay\n",
    "\n",
    "Zrealizowane przy wykorzystaniu bibliotek:\n",
    "- Pytorch — Tworzenie i nauka sieci neuronowej.\n",
    "- Matplotlib -- Wizualizacja.\n",
    "- cv2 - open-cv -- Obróbka obrazów.\n",
    "\n",
    "Wykorzystany dataset:\n",
    "- [CIFAR-100](https://www.cs.toronto.edu/~kriz/cifar.html) -- Zbiór 50000 obrazów treningowych i 10000 testowych.\n"
   ],
   "metadata": {
    "collapsed": false
   }
  },
  {
   "cell_type": "code",
   "execution_count": 13,
   "outputs": [
    {
     "name": "stderr",
     "output_type": "stream",
     "text": [
      "UsageError: Line magic function `%` not found.\n"
     ]
    }
   ],
   "source": [
    "import torch as t\n",
    "import torch.cuda as tc\n",
    "import seaborn as sb\n",
    "import numpy as np\n",
    "import cv2\n",
    "import matplotlib.pyplot as plt\n",
    "from torchvision.datasets import CIFAR100 as Cifar100\n",
    "% matplotlib inline"
   ],
   "metadata": {
    "collapsed": false
   }
  },
  {
   "cell_type": "markdown",
   "source": [
    "## Check gpu support"
   ],
   "metadata": {
    "collapsed": false
   }
  },
  {
   "cell_type": "code",
   "execution_count": 14,
   "outputs": [
    {
     "name": "stdout",
     "output_type": "stream",
     "text": [
      "GPU 'NVIDIA GeForce RTX 3070 Laptop GPU' is available\n"
     ]
    }
   ],
   "source": [
    "print(tc.is_available() and f\"GPU '{tc.get_device_name()}' is available\" or \"GPU is not available\")"
   ],
   "metadata": {
    "collapsed": false
   }
  },
  {
   "cell_type": "markdown",
   "source": [
    "## Load Cifar100 Dataset\n",
    "Split it into grayscale input, and colored output with train, test split"
   ],
   "metadata": {
    "collapsed": false
   }
  },
  {
   "cell_type": "code",
   "execution_count": 15,
   "outputs": [],
   "source": [
    "def rgb2gray(image):\n",
    "  return cv2.cvtColor(image, cv2.COLOR_RGB2GRAY)\n",
    "\n",
    "def load_datasets():\n",
    "  print(\"Loading train dataset...\")\n",
    "  y_train = Cifar100(\"resources/datasets\", download=True, train=True).data \\\n",
    "              .astype('float32') / 255\n",
    "  print(\"Loading test dataset...\")\n",
    "  y_test = Cifar100(\"resources/datasets\", download=True, train=False).data\\\n",
    "             .astype('float32') / 255\n",
    "\n",
    "  print(\"Preparing train dataset...\")\n",
    "  x_train = np.expand_dims([rgb2gray(x) for x in y_train], axis=3)\n",
    "\n",
    "  print(\"Preparing test dataset...\")\n",
    "  x_test = np.expand_dims([rgb2gray(x) for x in y_test], axis=3)\n",
    "  print(\"Finished.\")\n",
    "  return (x_train, y_train), (x_test, y_test)"
   ],
   "metadata": {
    "collapsed": false
   }
  },
  {
   "cell_type": "code",
   "execution_count": 16,
   "outputs": [
    {
     "name": "stdout",
     "output_type": "stream",
     "text": [
      "Loading train dataset...\n",
      "Files already downloaded and verified\n",
      "Loading test dataset...\n",
      "Files already downloaded and verified\n",
      "Preparing train dataset...\n",
      "Preparing test dataset...\n",
      "Finished.\n"
     ]
    }
   ],
   "source": [
    "dataset = load_datasets()\n",
    "(x_train, y_train), (x_test, y_test) = dataset"
   ],
   "metadata": {
    "collapsed": false
   }
  },
  {
   "cell_type": "markdown",
   "source": [
    "## Present Example images from the dataset"
   ],
   "metadata": {
    "collapsed": false
   }
  },
  {
   "cell_type": "code",
   "execution_count": 17,
   "outputs": [],
   "source": [
    "def compare(original, grayscale=None):\n",
    "  if grayscale is None: grayscale = rgb2gray(original)\n",
    "\n",
    "  figure, axes = plt.subplots(1, 2)\n",
    "  axes[0].imshow(original)\n",
    "  axes[0].set_title(\"Original\")\n",
    "  axes[0].grid(False)\n",
    "  axes[0].set_axis_off()\n",
    "  axes[1].imshow(grayscale, cmap='gray')\n",
    "  axes[1].set_title(\"Grayscale\")\n",
    "  axes[1].grid(False)\n",
    "  axes[1].set_axis_off()"
   ],
   "metadata": {
    "collapsed": false
   }
  },
  {
   "cell_type": "code",
   "execution_count": null,
   "outputs": [],
   "source": [
    "for original in y_train[:2]: compare(original)"
   ],
   "metadata": {
    "collapsed": false
   }
  },
  {
   "cell_type": "code",
   "execution_count": null,
   "outputs": [],
   "source": [],
   "metadata": {
    "collapsed": false
   }
  }
 ]
}
