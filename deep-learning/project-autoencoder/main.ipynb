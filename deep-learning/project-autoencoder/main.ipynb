{
 "nbformat": 4,
 "nbformat_minor": 0,
 "metadata": {
  "colab": {
   "provenance": [],
   "toc_visible": true
  },
  "kernelspec": {
   "name": "python3",
   "display_name": "Python 3"
  }
 },
 "cells": [
  {
   "cell_type": "markdown",
   "source": [
    "# Projekt Autoenkoder\n",
    "Indeks: 145317\n",
    "\n",
    "Wymagania:\n",
    "- stworzenie sieci neuronowej typu autoencoder\n",
    "- dane wejściowe to obrazy czarno-białe (1 kanał)\n",
    "- dane wyjściowe to obrazy kolorowe (3 kanały)\n",
    "- badanie różnych rozmiarów sieci neuronowej\n",
    "- badanie wpływu poszczególnych elementów regularyzacji na wynik:\n",
    "  - wpływ parametru momentum oraz rozmiaru batcha przy wykorzystaniu batch normalization\n",
    "  - wpływ dropout rate\n",
    "  - wpływ weight decay\n",
    "\n",
    "Zrealizowane przy wykorzystaniu bibliotek:\n",
    "- Tensorflow - Keras -- Tworzenie i nauka sieci neuronowej.\n",
    "- Matplotlib -- Wizualizacja.\n",
    "- cv2 - open-cv -- Obróbka obrazów.\n",
    "\n",
    "Wykorzystany dataset:\n",
    "- [CIFAR-100](https://www.cs.toronto.edu/~kriz/cifar.html) -- Zbiór 50000 obrazów treningowych i 10000 testowych.\n"
   ],
   "metadata": {
    "collapsed": false
   }
  },
  {
   "cell_type": "code",
   "execution_count": 12,
   "outputs": [
    {
     "name": "stdout",
     "output_type": "stream",
     "text": [
      "Num GPUs Available:  0\n",
      "False\n"
     ]
    }
   ],
   "source": [
    "import numpy as np\n",
    "import cv2 as cv\n",
    "from tensorflow.keras.datasets import cifar100\n",
    "import matplotlib.pyplot as plt\n",
    "from tensorflow.keras.models import Model\n",
    "from tensorflow.keras.layers import Conv2D, Conv2DTranspose, Dropout, BatchNormalization\n",
    "from tensorflow.keras.optimizers import Adam\n",
    "from tensorflow.keras.callbacks import ReduceLROnPlateau\n",
    "from typing import *\n",
    "import tensorflow as tf\n",
    "print(\"Num GPUs Available: \", len(tf.config.list_physical_devices('GPU')))\n",
    "print(tf.test.is_built_with_cuda())\n",
    "\n",
    "import functools\n",
    "def pipe(*fns):\n",
    "  return functools.reduce(lambda f, g: lambda x: f(g(x)), reversed(fns))\n",
    "\n",
    "plt.rc('figure', figsize=(12, 8), dpi=100)"
   ],
   "metadata": {
    "collapsed": false
   }
  },
  {
   "cell_type": "code",
   "execution_count": 2,
   "outputs": [
    {
     "name": "stdout",
     "output_type": "stream",
     "text": [
      "Downloading data from https://www.cs.toronto.edu/~kriz/cifar-100-python.tar.gz\n",
      "169001437/169001437 [==============================] - 7s 0us/step\n",
      "x train shape (50000, 32, 32, 1)\n",
      "y train shape (50000, 32, 32, 3)\n",
      "x test  shape (10000, 32, 32, 1)\n",
      "y test  shape (10000, 32, 32, 3)\n"
     ]
    }
   ],
   "source": [
    "(y_train, _), (y_test, _) = cifar100.load_data()\n",
    "y_train = y_train.astype('float32') / 255\n",
    "y_test = y_test.astype('float32') / 255\n",
    "x_train = np.expand_dims([cv.cvtColor(x, cv.COLOR_RGB2GRAY) for x in y_train], axis=3)\n",
    "x_test = np.expand_dims([cv.cvtColor(x, cv.COLOR_RGB2GRAY) for x in y_test], axis=3)\n",
    "print('x train shape', x_train.shape)\n",
    "print('y train shape', y_train.shape)\n",
    "print('x test  shape', x_test.shape)\n",
    "print('y test  shape', y_test.shape)"
   ],
   "metadata": {
    "collapsed": false
   }
  },
  {
   "cell_type": "code",
   "execution_count": 3,
   "outputs": [
    {
     "data": {
      "text/plain": "<Figure size 1200x800 with 2 Axes>",
      "image/png": "[encoded data removed]"
     },
     "metadata": {},
     "output_type": "display_data"
    }
   ],
   "source": [
    "fig, (ax1, ax2) = plt.subplots(ncols=2)\n",
    "ax1.imshow(x_train[0].reshape(32, 32), cmap='gray')\n",
    "ax2.imshow(y_train[0])\n",
    "ax1.set_xlabel('input')\n",
    "ax2.set_xlabel('output')\n",
    "plt.show()"
   ],
   "metadata": {
    "collapsed": false
   }
  },
  {
   "cell_type": "code",
   "execution_count": 4,
   "outputs": [],
   "source": [
    "# NN tools\n",
    "reduce_lr = ReduceLROnPlateau(patience=2, factor=0.5, min_lr=1e-6, verbose=1)\n",
    "optimizer = Adam(learning_rate=0.01)\n",
    "compile = lambda it: it.compile(optimizer=optimizer, loss='mse')\n",
    "fit = lambda it: it.fit(x_train, y_train, epochs=20, batch_size=128, validation_data=(x_test, y_test),\n",
    "                        callbacks=[reduce_lr])\n",
    "\n",
    "def fit_models(models):\n",
    "  for model in models:\n",
    "    print(f'--- {model.name} -------------')\n",
    "    compile(model)\n",
    "    model.history = fit(model)\n",
    "\n",
    "def plot_training(models, params):\n",
    "  fig, axs = plt.subplots(ncols=2, figsize=(10, 3))\n",
    "  labels = [x.name for x in models]\n",
    "  for ax, param in zip(axs.reshape(-1), params):\n",
    "    for model in models:\n",
    "      ax.plot(model.history.history[param])\n",
    "    ax.set_ylabel(param)\n",
    "    ax.set_xlabel('epoch')\n",
    "    ax.legend(labels, loc='upper right')\n",
    "  plt.show()"
   ],
   "metadata": {
    "collapsed": false
   }
  },
  {
   "cell_type": "code",
   "execution_count": 5,
   "outputs": [],
   "source": [
    "class BaseModel(Model):\n",
    "  def __init__(self, name: str, layers: Iterable):\n",
    "    super().__init__(name=name)\n",
    "    self.__layers = tuple(layers)\n",
    "\n",
    "  def call(self, x):\n",
    "    return pipe(*self.__layers)(x)\n",
    "\n",
    "class GrayscaleEncoder(BaseModel):\n",
    "  def __init__(self, filters, kernel, dropout, normalize):\n",
    "    super().__init__(name='GrayscaleEncoder', layers=self.__gen_layers(filters, kernel, dropout, normalize))\n",
    "\n",
    "  def __gen_layers(self, filters, kernel, dropout, normalize):\n",
    "    for filter in filters:\n",
    "      yield Conv2D(filters=filter, kernel_size=kernel, strides=2, activation='relu', padding='same')\n",
    "      if normalize: yield BatchNormalization()\n",
    "      if dropout: yield Dropout(dropout)\n",
    "\n",
    "class RgbDecoder(BaseModel):\n",
    "  def __init__(self, filters, kernel):\n",
    "    super().__init__(name='RgbDecoder', layers=self.__gen_layers(filters, kernel))\n",
    "\n",
    "  @classmethod\n",
    "  def __gen_layers(cls, filters, kernel):\n",
    "    for filter in filters:\n",
    "      yield Conv2DTranspose(filters=filter, kernel_size=kernel, strides=2, activation='relu', padding='same')\n",
    "    yield Conv2D(filters=3, kernel_size=kernel, activation='sigmoid', padding='same')\n",
    "\n",
    "class ImageAutoencoder(BaseModel):\n",
    "  def __init__(self, *, filters, kernel, dropout=0, normalize=False):\n",
    "    super().__init__(\n",
    "      name=f\"ImageAutoencoder{dropout and f' dropout:{dropout}' or ''}{normalize and f' normalized' or ''}\",\n",
    "      layers=(\n",
    "        GrayscaleEncoder(filters, kernel, dropout, normalize),\n",
    "        RgbDecoder(reversed(filters), kernel)\n",
    "      )\n",
    "    )\n"
   ],
   "metadata": {
    "collapsed": false
   }
  },
  {
   "cell_type": "code",
   "execution_count": 6,
   "outputs": [
    {
     "name": "stdout",
     "output_type": "stream",
     "text": [
      "--- ImageAutoencoder -------------\n",
      "Epoch 1/20\n",
      "WARNING:tensorflow:AutoGraph could not transform <bound method BaseModel.call of <__main__.ImageAutoencoder object at 0x0000029DB1789510>> and will run it as-is.\n",
      "Cause: mangled names are not yet supported\n",
      "To silence this warning, decorate the function with @tf.autograph.experimental.do_not_convert\n",
      "WARNING: AutoGraph could not transform <bound method BaseModel.call of <__main__.ImageAutoencoder object at 0x0000029DB1789510>> and will run it as-is.\n",
      "Cause: mangled names are not yet supported\n",
      "To silence this warning, decorate the function with @tf.autograph.experimental.do_not_convert\n",
      "391/391 [==============================] - 106s 270ms/step - loss: 0.0187 - val_loss: 0.0129 - lr: 0.0100\n",
      "Epoch 2/20\n",
      "391/391 [==============================] - 112s 286ms/step - loss: 0.0118 - val_loss: 0.0114 - lr: 0.0100\n",
      "Epoch 3/20\n",
      "250/391 [==================>...........] - ETA: 39s - loss: 0.0115"
     ]
    },
    {
     "name": "stderr",
     "output_type": "stream",
     "text": [
      "\n",
      "KeyboardInterrupt\n",
      "\n"
     ]
    }
   ],
   "source": [
    "filters = [64, 128, 256]\n",
    "kernel = 3\n",
    "models = [\n",
    "  ImageAutoencoder(filters=filters, kernel=kernel),\n",
    "  ImageAutoencoder(filters=filters, kernel=kernel, normalize=True),\n",
    "  ImageAutoencoder(filters=filters, kernel=kernel, dropout=0.2),\n",
    "  ImageAutoencoder(filters=filters, kernel=kernel, normalize=True, dropout=0.2),\n",
    "]\n",
    "fit_models(models)"
   ],
   "metadata": {
    "collapsed": false
   }
  },
  {
   "cell_type": "code",
   "execution_count": null,
   "outputs": [],
   "source": [
    "plot_training(models, params=['loss', 'val_loss'])\n"
   ],
   "metadata": {
    "collapsed": false
   }
  },
  {
   "cell_type": "code",
   "execution_count": null,
   "outputs": [],
   "source": [
    "Y_test = models[0].predict(x_test[:100, :, :, :])\n",
    "print(Y_test.shape)"
   ],
   "metadata": {
    "collapsed": false
   }
  },
  {
   "cell_type": "code",
   "execution_count": null,
   "outputs": [],
   "source": [
    "def plot_result(x, y, Y):\n",
    "  fig, (ax1, ax2, ax3) = plt.subplots(ncols=3)\n",
    "  ax1.imshow(x.reshape(x.shape[0], x.shape[1]), cmap='gray')\n",
    "  ax2.imshow(Y)\n",
    "  ax3.imshow(y)\n",
    "  ax1.set_xlabel('input')\n",
    "  ax2.set_xlabel('output')\n",
    "  ax3.set_xlabel('expected')\n",
    "\n",
    "def plot_test_result(index):\n",
    "  plot_result(x_test[index], y_test[index], Y_test[index])\n",
    "\n",
    "plot_test_result(16)"
   ],
   "metadata": {
    "collapsed": false
   }
  },
  {
   "cell_type": "code",
   "execution_count": null,
   "outputs": [],
   "source": [
    "def color_image_from_path(model, path):\n",
    "  y = cv.cvtColor(cv.imread(path), cv.COLOR_BGR2RGB).astype('float32') / 255\n",
    "  x = cv.cvtColor(y, cv.COLOR_RGB2GRAY)\n",
    "  y_result = model.predict(x.reshape(1, x.shape[0], x.shape[1], 1))[0]\n",
    "  plot_result(x, y, y_result)\n",
    "\n",
    "color_image_from_path(models[0], 'resources/novelai-flower-1.png')"
   ],
   "metadata": {
    "collapsed": false
   }
  }
 ]
}
