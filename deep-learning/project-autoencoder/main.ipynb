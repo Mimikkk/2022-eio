{
 "nbformat": 4,
 "nbformat_minor": 0,
 "metadata": {
  "colab": {
   "provenance": [],
   "toc_visible": true
  },
  "kernelspec": {
   "name": "python3",
   "display_name": "Python 3"
  }
 },
 "cells": [
  {
   "cell_type": "markdown",
   "source": [
    "# Projekt Autoenkoder\n",
    "Indeks: 145317\n",
    "\n",
    "Wymagania:\n",
    "- stworzenie sieci neuronowej typu autoencoder\n",
    "- dane wejściowe to obrazy czarno-białe (1 kanał)\n",
    "- dane wyjściowe to obrazy kolorowe (3 kanały)\n",
    "- badanie różnych rozmiarów sieci neuronowej\n",
    "- badanie wpływu poszczególnych elementów regularyzacji na wynik:\n",
    "  - wpływ parametru momentum oraz rozmiaru batcha przy wykorzystaniu batch normalization\n",
    "  - wpływ dropout rate\n",
    "  - wpływ weight decay\n",
    "\n",
    "Zrealizowane przy wykorzystaniu bibliotek:\n",
    "- Pytorch — Tworzenie i nauka sieci neuronowej.\n",
    "- Matplotlib -- Wizualizacja.\n",
    "- cv2 - open-cv -- Obróbka obrazów.\n",
    "\n",
    "Wykorzystany dataset:\n",
    "- [CIFAR-100](https://www.cs.toronto.edu/~kriz/cifar.html) -- Zbiór 50000 obrazów treningowych i 10000 testowych.\n"
   ],
   "metadata": {
    "collapsed": false
   }
  }
 ]
}
